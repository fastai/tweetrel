{
 "cells": [
  {
   "cell_type": "code",
   "execution_count": null,
   "metadata": {},
   "outputs": [],
   "source": [
    "#hide\n",
    "from tweetrel.core import *"
   ]
  },
  {
   "cell_type": "markdown",
   "metadata": {},
   "source": [
    "# tweetrel\n",
    "\n",
    "> Send a tweet to let people know when you release software on GitHub."
   ]
  },
  {
   "cell_type": "markdown",
   "metadata": {},
   "source": [
    "It's great to release software. And even better when people actually know about it!\n",
    "\n",
    "One way to let people know about your new software releases is to tell them on Twitter. But we're software developers, not social media managers -- so that means we *automate all the things*.\n",
    "\n",
    "With tweetrel, you can have GitHub send a tweet for you whenever you make a release."
   ]
  },
  {
   "cell_type": "markdown",
   "metadata": {},
   "source": [
    "## Install"
   ]
  },
  {
   "cell_type": "markdown",
   "metadata": {},
   "source": [
    "`pip install tweetrel`"
   ]
  },
  {
   "cell_type": "markdown",
   "metadata": {},
   "source": [
    "## How to use"
   ]
  },
  {
   "cell_type": "markdown",
   "metadata": {},
   "source": [
    "First, you need to add your Twitter API details as [GitHub secrets](https://docs.github.com/en/free-pro-team@latest/actions/reference/encrypted-secrets). You'll need to sign up for a [Twitter API](https://developer.twitter.com/en/docs) account if you don't already have one. Once you've signed up, Twitter will give you four keys: `consumer_key`, `consumer_secret`, `access_token`, and `access_token_secret`. Create a new secret called `TWITTER`, and paste those four keys in, with a space between each one.\n",
    "\n",
    "If you need to send Tweets on behalf of a different user to the one attached to your login, you'll need to authenticate with Twitter as that user. Run `tweetrel-auth` in your terminal and follow the instructions, and it will give you the `access_token` and `access_token_secret` you need -- paste them (after a space) after your `consumer_key` and `consumer_secret` and that will let you send tweets as the user you authenticated as.\n",
    "\n",
    "Next, in your terminal, `cd` to the root of your repo, and then run:\n",
    "\n",
    "```bash\n",
    "tweetrel-install\n",
    "```\n",
    "\n",
    "That will set `tweetrel` up for you to run automatically upon release. You'll see two folders added to your `.github` folder, containing the YAML workflow and python script. No additional setup is needed, other than pushing these to GitHub:\n",
    "\n",
    "```bash\n",
    "git add -A .github\n",
    "git commit -am 'Add tweetrel`\n",
    "git push\n",
    "```\n",
    "\n",
    "You can test this without actually making a release by going to your GitHub repo in your browser, clicking the *Actions* tab, then clicking on the *tweet* action, and clicking the *run workflow* button. That will use GitHub's example release payload for testing.\n",
    "\n",
    "Once you've confirmed it's working, try making a release on GitHub, and check that you see the green tick in the Actions tab showing a successful run of the *tweet* action."
   ]
  },
  {
   "cell_type": "markdown",
   "metadata": {},
   "source": []
  }
 ],
 "metadata": {
  "kernelspec": {
   "display_name": "Python 3",
   "language": "python",
   "name": "python3"
  }
 },
 "nbformat": 4,
 "nbformat_minor": 2
}
